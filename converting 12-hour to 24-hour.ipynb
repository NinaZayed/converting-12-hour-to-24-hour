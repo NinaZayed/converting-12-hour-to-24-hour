{
 "cells": [
  {
   "cell_type": "code",
   "execution_count": 2,
   "metadata": {},
   "outputs": [
    {
     "name": "stdout",
     "output_type": "stream",
     "text": [
      "12:45:55AM\n",
      "00:45:55 \n"
     ]
    }
   ],
   "source": [
    "s = input()\n",
    "string = s.split(':')\n",
    "for i in string:\n",
    "    a = int(string[0])\n",
    "    b = string[1]\n",
    "    c = string[2]\n",
    "    \n",
    "if a != 12 and c[2] == 'P':\n",
    "        a+= 12\n",
    "        c = c.replace(\"PM\",\" \")\n",
    "\n",
    "elif c[2] == 'P' and a == 12:\n",
    "    c = c.replace(\"PM\",\" \")\n",
    "    \n",
    "elif a == 12 and c[2] == 'A':\n",
    "    a = '00'\n",
    "    c = c.replace(\"AM\",\" \")\n",
    "    \n",
    "elif a > 1 and a < 9:\n",
    "    a = '0' + str(a)\n",
    "    c = c.replace(\"AM\",\" \")\n",
    "\n",
    "string[0] = str(a)\n",
    "string[1] = b\n",
    "string[2] = c\n",
    "string = ':'.join(string)\n",
    "print(string)\n"
   ]
  },
  {
   "cell_type": "code",
   "execution_count": null,
   "metadata": {},
   "outputs": [],
   "source": []
  }
 ],
 "metadata": {
  "kernelspec": {
   "display_name": "Python 3",
   "language": "python",
   "name": "python3"
  },
  "language_info": {
   "codemirror_mode": {
    "name": "ipython",
    "version": 3
   },
   "file_extension": ".py",
   "mimetype": "text/x-python",
   "name": "python",
   "nbconvert_exporter": "python",
   "pygments_lexer": "ipython3",
   "version": "3.7.6"
  }
 },
 "nbformat": 4,
 "nbformat_minor": 4
}
